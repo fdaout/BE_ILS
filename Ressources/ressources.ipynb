{
 "cells": [
  {
   "cell_type": "markdown",
   "id": "2bc7bacd-80fc-4044-88dd-2be6cc0831d6",
   "metadata": {},
   "source": [
    "# Ressources"
   ]
  },
  {
   "cell_type": "markdown",
   "id": "4d81961c-b4d9-4d2c-add7-0d01d26914e5",
   "metadata": {},
   "source": [
    ":::{admonition} Attention ...\n",
    ":class: warning\n",
    "\n",
    "Cette liste de ressources a été mise à jour lors de l'écriture de ce BE (i.e. en août 2023). Il est possible que certains liens ne fonctionnent plus.\n",
    "\n",
    ":::"
   ]
  },
  {
   "cell_type": "markdown",
   "id": "825738d6-3a5e-475f-922e-369f3066253a",
   "metadata": {},
   "source": [
    "## Liste des documents référencés\n",
    "\n",
    "* (1) \"Radar-based landing system for uncontrolled flights\" de L. Baardman (26 septembre 2016).\n",
    "* (2) [Cours de radiocommunication](https://dspillustrations.com/pages/posts/misc/baseband-up-and-downconversion-and-iq-modulation.html) \n",
    "* (3) Jan Leuchter 1, Radim Bloudicek 1, Jan Boril 1, Josef Bajer 1 and Erik Blasch, \"Influence of Aircraft Power Electronics Processing on Backup VHF Radio Systems\""
   ]
  }
 ],
 "metadata": {
  "kernelspec": {
   "display_name": "Python 3 (ipykernel)",
   "language": "python",
   "name": "python3"
  },
  "language_info": {
   "codemirror_mode": {
    "name": "ipython",
    "version": 3
   },
   "file_extension": ".py",
   "mimetype": "text/x-python",
   "name": "python",
   "nbconvert_exporter": "python",
   "pygments_lexer": "ipython3",
   "version": "3.11.4"
  }
 },
 "nbformat": 4,
 "nbformat_minor": 5
}
