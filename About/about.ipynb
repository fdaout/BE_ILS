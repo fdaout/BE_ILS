{
 "cells": [
  {
   "cell_type": "markdown",
   "id": "3be13507-8cf4-4703-8c89-1e8beb7c1495",
   "metadata": {},
   "source": [
    "# A propos de ...."
   ]
  },
  {
   "cell_type": "markdown",
   "id": "0cb69c8f-a02d-41b7-b45f-719b9ffa84f9",
   "metadata": {},
   "source": [
    "## La licence professionnelle Mesures Hyperfréquences et Radiocommunications (LP MHR)\n",
    "\n",
    "L'objectif de la licence professionnelle \"Mesures Hyperfréquences et Radiocommunications\" est de former des techniciens spécialistes des mesures dans le domaine de l'électronique Radio Fréquence (RF) et Hyperfréquence. La licence professionnelle MHR s'adresse à des étudiants diplômés d'un BAC +2 (BUT2 ou BTS) de formation électronique. La formation se fait en alternance.\n",
    "\n",
    "**Contact**\n",
    "* site web institutionnel : [https://cva-geii.parisnanterre.fr/formations/licence-professionnelle-mhr](https://cva-geii.parisnanterre.fr/formations/licence-professionnelle-mhr)\n",
    "* recrutement : [https://sites.google.com/view/jpolpmhr/accueil](https://sites.google.com/view/jpolpmhr/accueil)"
   ]
  },
  {
   "cell_type": "markdown",
   "id": "475c46f7-2cb8-4cf9-9fb1-4e286aca6f67",
   "metadata": {},
   "source": [
    "## Franck DAOUT\n",
    "\n",
    "Franck Daout est enseignant chercheur à l’IUT de Ville d'Avray. Il effectue ces activités de recherche au laboratoire [SATIE](https://satie.ens-paris-saclay.fr/fr) de l'ENS dans le domaine des capteurs hyperfréquences. Il est responsable de la licence professionnelle Mesures Hyperfréquences et Radiocommunications (LP MHR) de l’IUT de Ville d'avray. \n",
    "\n",
    "Son domaine de compétence correspond principalement aux techniques de mesures RF.\n",
    "\n",
    "**Contact**\n",
    "* email : [fdaout@parisnanterre](mailto:fdaout@parisnanterre.fr)"
   ]
  }
 ],
 "metadata": {
  "kernelspec": {
   "display_name": "Python 3 (ipykernel)",
   "language": "python",
   "name": "python3"
  },
  "language_info": {
   "codemirror_mode": {
    "name": "ipython",
    "version": 3
   },
   "file_extension": ".py",
   "mimetype": "text/x-python",
   "name": "python",
   "nbconvert_exporter": "python",
   "pygments_lexer": "ipython3",
   "version": "3.11.4"
  }
 },
 "nbformat": 4,
 "nbformat_minor": 5
}
